{
  "nbformat": 4,
  "nbformat_minor": 0,
  "metadata": {
    "colab": {
      "provenance": [],
      "collapsed_sections": [
        "DJHmWpcD3yOV",
        "WO5vBB8C5rj3",
        "azSqsH06GIN7",
        "ANhh7Y2phJCd"
      ]
    },
    "kernelspec": {
      "name": "python3",
      "display_name": "Python 3"
    },
    "language_info": {
      "name": "python"
    }
  },
  "cells": [
    {
      "cell_type": "markdown",
      "source": [
        "##Context\n",
        "\n",
        "This dataset contains information statistics on startup businesses success, failure, and funding. The goal is analyze or predict whether or not a currently operating startup is turning into a success or failure."
      ],
      "metadata": {
        "id": "bL0LP6W0qvwl"
      }
    },
    {
      "cell_type": "markdown",
      "source": [
        "##Data Description\n",
        "\n",
        "The detailed data dictionary is given below:\n",
        "* Permalink - link to organization\n",
        "* Name - name of the company\n",
        "* Homepage URL - Startup website\n",
        "* Category List - field the company falls under.\n",
        "* Funding Total (USD) - Total funding in US dollars.\n",
        "* Status - operating status\n",
        "* Country Code - country location of company.\n",
        "* State Code - state code of company location.\n",
        "* Region - region of company location.\n",
        "* City - city of company location\n",
        "* Funding Rounds - rounds company was funded.\n",
        "* Founded at - founded date of the company\n",
        "* First Funding at - first funding date for the company .\n",
        "* Last Funding at - last funding date for the company."
      ],
      "metadata": {
        "id": "gDYvG4cNwFaL"
      }
    },
    {
      "cell_type": "markdown",
      "source": [
        "### Sanity Checks\n"
      ],
      "metadata": {
        "id": "DJHmWpcD3yOV"
      }
    },
    {
      "cell_type": "code",
      "source": [
        "  # Libraries to help with reading and manupulating data\n",
        "  import numpy as np\n",
        "  import pandas as pd\n",
        "\n",
        "  # Libraries to help with data visualization\n",
        "  import matplotlib.pyplot as plt\n",
        "  import seaborn as sns"
      ],
      "metadata": {
        "id": "G-WyIG514O1a"
      },
      "execution_count": 69,
      "outputs": []
    },
    {
      "cell_type": "code",
      "source": [
        "pd.set_option('display.float_format', lambda x: '%.3f' % x)"
      ],
      "metadata": {
        "id": "8ysNT83Y4jGk"
      },
      "execution_count": 70,
      "outputs": []
    },
    {
      "cell_type": "code",
      "source": [
        "from google.colab import drive"
      ],
      "metadata": {
        "id": "x3EZYlEK4kr0"
      },
      "execution_count": 71,
      "outputs": []
    },
    {
      "cell_type": "markdown",
      "source": [
        "**Importing the dataset**"
      ],
      "metadata": {
        "id": "JA9lHFJu4m7i"
      }
    },
    {
      "cell_type": "code",
      "source": [
        "data = pd.read_excel('/content/big_startup_secsees_dataset (3).xlsx')"
      ],
      "metadata": {
        "id": "P2lXo4eB4srY"
      },
      "execution_count": 72,
      "outputs": []
    },
    {
      "cell_type": "markdown",
      "source": [
        "**View the first and last 7 rows of the dataset**"
      ],
      "metadata": {
        "id": "K2DiiO_Z4y3f"
      }
    },
    {
      "cell_type": "code",
      "source": [
        "data.head(7)"
      ],
      "metadata": {
        "id": "2rEXCqXcNI0V",
        "colab": {
          "base_uri": "https://localhost:8080/",
          "height": 628
        },
        "outputId": "90767c8d-6615-4e7b-cb0e-1ccd629ee12b"
      },
      "execution_count": 73,
      "outputs": [
        {
          "output_type": "execute_result",
          "data": {
            "text/plain": [
              "                             permalink                    name  \\\n",
              "0                  /organization/-fame                   #fame   \n",
              "1               /organization/-qounter                :Qounter   \n",
              "2                /organization/0-6-com                 0-6.com   \n",
              "3       /organization/004-technologies        004 Technologies   \n",
              "4     /organization/01games-technology      01Games Technology   \n",
              "5  /organization/0ndine-biomedical-inc  Ondine Biomedical Inc.   \n",
              "6                 /organization/0xdata                  H2O.ai   \n",
              "\n",
              "                        homepage url  \\\n",
              "0                 http://livfame.com   \n",
              "1             http://www.qounter.com   \n",
              "2                 http://www.0-6.com   \n",
              "3  http://004gmbh.de/en/004-interact   \n",
              "4             http://www.01games.hk/   \n",
              "5               http://ondinebio.com   \n",
              "6                     http://h2o.ai/   \n",
              "\n",
              "                                       category list  funding total usd  \\\n",
              "0                                              Media       10000000.000   \n",
              "1  Application Platforms|Real Time|Social Network...         700000.000   \n",
              "2                                        Curated Web        2000000.000   \n",
              "3                                           Software              0.000   \n",
              "4                                              Games          41250.000   \n",
              "5                                      Biotechnology         762851.000   \n",
              "6                                          Analytics       33600000.000   \n",
              "\n",
              "      status country code state code                 region           city  \\\n",
              "0  operating          IND     16.000                 Mumbai         Mumbai   \n",
              "1  operating          USA         DE             DE - Other  Delaware City   \n",
              "2  operating          CHN     22.000                Beijing        Beijing   \n",
              "3  operating          USA         IL  Springfield, Illinois      Champaign   \n",
              "4  operating          HKG        NaN              Hong Kong      Hong Kong   \n",
              "5  operating          CAN         BC              Vancouver      Vancouver   \n",
              "6  operating          USA         CA            SF Bay Area  Mountain View   \n",
              "\n",
              "   funding rounds           founded at     first funding at last funding at  \n",
              "0           1.000                  NaN  2015-01-05 00:00:00      2015-01-05  \n",
              "1           2.000  2014-09-04 00:00:00  2014-03-01 00:00:00      2014-10-14  \n",
              "2           1.000  2007-01-01 00:00:00  2008-03-19 00:00:00      2008-03-19  \n",
              "3           1.000  2010-01-01 00:00:00  2014-07-24 00:00:00      2014-07-24  \n",
              "4           1.000                  NaN  2014-07-01 00:00:00      2014-07-01  \n",
              "5           2.000  1997-01-01 00:00:00  2009-09-11 00:00:00      2009-12-21  \n",
              "6           4.000  2011-01-01 00:00:00  2013-01-03 00:00:00      2015-11-09  "
            ],
            "text/html": [
              "\n",
              "  <div id=\"df-63295fdd-264b-4c8b-96b4-c2af5514844f\">\n",
              "    <div class=\"colab-df-container\">\n",
              "      <div>\n",
              "<style scoped>\n",
              "    .dataframe tbody tr th:only-of-type {\n",
              "        vertical-align: middle;\n",
              "    }\n",
              "\n",
              "    .dataframe tbody tr th {\n",
              "        vertical-align: top;\n",
              "    }\n",
              "\n",
              "    .dataframe thead th {\n",
              "        text-align: right;\n",
              "    }\n",
              "</style>\n",
              "<table border=\"1\" class=\"dataframe\">\n",
              "  <thead>\n",
              "    <tr style=\"text-align: right;\">\n",
              "      <th></th>\n",
              "      <th>permalink</th>\n",
              "      <th>name</th>\n",
              "      <th>homepage url</th>\n",
              "      <th>category list</th>\n",
              "      <th>funding total usd</th>\n",
              "      <th>status</th>\n",
              "      <th>country code</th>\n",
              "      <th>state code</th>\n",
              "      <th>region</th>\n",
              "      <th>city</th>\n",
              "      <th>funding rounds</th>\n",
              "      <th>founded at</th>\n",
              "      <th>first funding at</th>\n",
              "      <th>last funding at</th>\n",
              "    </tr>\n",
              "  </thead>\n",
              "  <tbody>\n",
              "    <tr>\n",
              "      <th>0</th>\n",
              "      <td>/organization/-fame</td>\n",
              "      <td>#fame</td>\n",
              "      <td>http://livfame.com</td>\n",
              "      <td>Media</td>\n",
              "      <td>10000000.000</td>\n",
              "      <td>operating</td>\n",
              "      <td>IND</td>\n",
              "      <td>16.000</td>\n",
              "      <td>Mumbai</td>\n",
              "      <td>Mumbai</td>\n",
              "      <td>1.000</td>\n",
              "      <td>NaN</td>\n",
              "      <td>2015-01-05 00:00:00</td>\n",
              "      <td>2015-01-05</td>\n",
              "    </tr>\n",
              "    <tr>\n",
              "      <th>1</th>\n",
              "      <td>/organization/-qounter</td>\n",
              "      <td>:Qounter</td>\n",
              "      <td>http://www.qounter.com</td>\n",
              "      <td>Application Platforms|Real Time|Social Network...</td>\n",
              "      <td>700000.000</td>\n",
              "      <td>operating</td>\n",
              "      <td>USA</td>\n",
              "      <td>DE</td>\n",
              "      <td>DE - Other</td>\n",
              "      <td>Delaware City</td>\n",
              "      <td>2.000</td>\n",
              "      <td>2014-09-04 00:00:00</td>\n",
              "      <td>2014-03-01 00:00:00</td>\n",
              "      <td>2014-10-14</td>\n",
              "    </tr>\n",
              "    <tr>\n",
              "      <th>2</th>\n",
              "      <td>/organization/0-6-com</td>\n",
              "      <td>0-6.com</td>\n",
              "      <td>http://www.0-6.com</td>\n",
              "      <td>Curated Web</td>\n",
              "      <td>2000000.000</td>\n",
              "      <td>operating</td>\n",
              "      <td>CHN</td>\n",
              "      <td>22.000</td>\n",
              "      <td>Beijing</td>\n",
              "      <td>Beijing</td>\n",
              "      <td>1.000</td>\n",
              "      <td>2007-01-01 00:00:00</td>\n",
              "      <td>2008-03-19 00:00:00</td>\n",
              "      <td>2008-03-19</td>\n",
              "    </tr>\n",
              "    <tr>\n",
              "      <th>3</th>\n",
              "      <td>/organization/004-technologies</td>\n",
              "      <td>004 Technologies</td>\n",
              "      <td>http://004gmbh.de/en/004-interact</td>\n",
              "      <td>Software</td>\n",
              "      <td>0.000</td>\n",
              "      <td>operating</td>\n",
              "      <td>USA</td>\n",
              "      <td>IL</td>\n",
              "      <td>Springfield, Illinois</td>\n",
              "      <td>Champaign</td>\n",
              "      <td>1.000</td>\n",
              "      <td>2010-01-01 00:00:00</td>\n",
              "      <td>2014-07-24 00:00:00</td>\n",
              "      <td>2014-07-24</td>\n",
              "    </tr>\n",
              "    <tr>\n",
              "      <th>4</th>\n",
              "      <td>/organization/01games-technology</td>\n",
              "      <td>01Games Technology</td>\n",
              "      <td>http://www.01games.hk/</td>\n",
              "      <td>Games</td>\n",
              "      <td>41250.000</td>\n",
              "      <td>operating</td>\n",
              "      <td>HKG</td>\n",
              "      <td>NaN</td>\n",
              "      <td>Hong Kong</td>\n",
              "      <td>Hong Kong</td>\n",
              "      <td>1.000</td>\n",
              "      <td>NaN</td>\n",
              "      <td>2014-07-01 00:00:00</td>\n",
              "      <td>2014-07-01</td>\n",
              "    </tr>\n",
              "    <tr>\n",
              "      <th>5</th>\n",
              "      <td>/organization/0ndine-biomedical-inc</td>\n",
              "      <td>Ondine Biomedical Inc.</td>\n",
              "      <td>http://ondinebio.com</td>\n",
              "      <td>Biotechnology</td>\n",
              "      <td>762851.000</td>\n",
              "      <td>operating</td>\n",
              "      <td>CAN</td>\n",
              "      <td>BC</td>\n",
              "      <td>Vancouver</td>\n",
              "      <td>Vancouver</td>\n",
              "      <td>2.000</td>\n",
              "      <td>1997-01-01 00:00:00</td>\n",
              "      <td>2009-09-11 00:00:00</td>\n",
              "      <td>2009-12-21</td>\n",
              "    </tr>\n",
              "    <tr>\n",
              "      <th>6</th>\n",
              "      <td>/organization/0xdata</td>\n",
              "      <td>H2O.ai</td>\n",
              "      <td>http://h2o.ai/</td>\n",
              "      <td>Analytics</td>\n",
              "      <td>33600000.000</td>\n",
              "      <td>operating</td>\n",
              "      <td>USA</td>\n",
              "      <td>CA</td>\n",
              "      <td>SF Bay Area</td>\n",
              "      <td>Mountain View</td>\n",
              "      <td>4.000</td>\n",
              "      <td>2011-01-01 00:00:00</td>\n",
              "      <td>2013-01-03 00:00:00</td>\n",
              "      <td>2015-11-09</td>\n",
              "    </tr>\n",
              "  </tbody>\n",
              "</table>\n",
              "</div>\n",
              "      <button class=\"colab-df-convert\" onclick=\"convertToInteractive('df-63295fdd-264b-4c8b-96b4-c2af5514844f')\"\n",
              "              title=\"Convert this dataframe to an interactive table.\"\n",
              "              style=\"display:none;\">\n",
              "        \n",
              "  <svg xmlns=\"http://www.w3.org/2000/svg\" height=\"24px\"viewBox=\"0 0 24 24\"\n",
              "       width=\"24px\">\n",
              "    <path d=\"M0 0h24v24H0V0z\" fill=\"none\"/>\n",
              "    <path d=\"M18.56 5.44l.94 2.06.94-2.06 2.06-.94-2.06-.94-.94-2.06-.94 2.06-2.06.94zm-11 1L8.5 8.5l.94-2.06 2.06-.94-2.06-.94L8.5 2.5l-.94 2.06-2.06.94zm10 10l.94 2.06.94-2.06 2.06-.94-2.06-.94-.94-2.06-.94 2.06-2.06.94z\"/><path d=\"M17.41 7.96l-1.37-1.37c-.4-.4-.92-.59-1.43-.59-.52 0-1.04.2-1.43.59L10.3 9.45l-7.72 7.72c-.78.78-.78 2.05 0 2.83L4 21.41c.39.39.9.59 1.41.59.51 0 1.02-.2 1.41-.59l7.78-7.78 2.81-2.81c.8-.78.8-2.07 0-2.86zM5.41 20L4 18.59l7.72-7.72 1.47 1.35L5.41 20z\"/>\n",
              "  </svg>\n",
              "      </button>\n",
              "      \n",
              "  <style>\n",
              "    .colab-df-container {\n",
              "      display:flex;\n",
              "      flex-wrap:wrap;\n",
              "      gap: 12px;\n",
              "    }\n",
              "\n",
              "    .colab-df-convert {\n",
              "      background-color: #E8F0FE;\n",
              "      border: none;\n",
              "      border-radius: 50%;\n",
              "      cursor: pointer;\n",
              "      display: none;\n",
              "      fill: #1967D2;\n",
              "      height: 32px;\n",
              "      padding: 0 0 0 0;\n",
              "      width: 32px;\n",
              "    }\n",
              "\n",
              "    .colab-df-convert:hover {\n",
              "      background-color: #E2EBFA;\n",
              "      box-shadow: 0px 1px 2px rgba(60, 64, 67, 0.3), 0px 1px 3px 1px rgba(60, 64, 67, 0.15);\n",
              "      fill: #174EA6;\n",
              "    }\n",
              "\n",
              "    [theme=dark] .colab-df-convert {\n",
              "      background-color: #3B4455;\n",
              "      fill: #D2E3FC;\n",
              "    }\n",
              "\n",
              "    [theme=dark] .colab-df-convert:hover {\n",
              "      background-color: #434B5C;\n",
              "      box-shadow: 0px 1px 3px 1px rgba(0, 0, 0, 0.15);\n",
              "      filter: drop-shadow(0px 1px 2px rgba(0, 0, 0, 0.3));\n",
              "      fill: #FFFFFF;\n",
              "    }\n",
              "  </style>\n",
              "\n",
              "      <script>\n",
              "        const buttonEl =\n",
              "          document.querySelector('#df-63295fdd-264b-4c8b-96b4-c2af5514844f button.colab-df-convert');\n",
              "        buttonEl.style.display =\n",
              "          google.colab.kernel.accessAllowed ? 'block' : 'none';\n",
              "\n",
              "        async function convertToInteractive(key) {\n",
              "          const element = document.querySelector('#df-63295fdd-264b-4c8b-96b4-c2af5514844f');\n",
              "          const dataTable =\n",
              "            await google.colab.kernel.invokeFunction('convertToInteractive',\n",
              "                                                     [key], {});\n",
              "          if (!dataTable) return;\n",
              "\n",
              "          const docLinkHtml = 'Like what you see? Visit the ' +\n",
              "            '<a target=\"_blank\" href=https://colab.research.google.com/notebooks/data_table.ipynb>data table notebook</a>'\n",
              "            + ' to learn more about interactive tables.';\n",
              "          element.innerHTML = '';\n",
              "          dataTable['output_type'] = 'display_data';\n",
              "          await google.colab.output.renderOutput(dataTable, element);\n",
              "          const docLink = document.createElement('div');\n",
              "          docLink.innerHTML = docLinkHtml;\n",
              "          element.appendChild(docLink);\n",
              "        }\n",
              "      </script>\n",
              "    </div>\n",
              "  </div>\n",
              "  "
            ]
          },
          "metadata": {},
          "execution_count": 73
        }
      ]
    },
    {
      "cell_type": "code",
      "source": [
        "data.tail(7)"
      ],
      "metadata": {
        "id": "r7TfsTvXOIYc",
        "colab": {
          "base_uri": "https://localhost:8080/",
          "height": 628
        },
        "outputId": "fdb42ca0-cc33-468a-ee46-e3289d08f2ca"
      },
      "execution_count": 74,
      "outputs": [
        {
          "output_type": "execute_result",
          "data": {
            "text/plain": [
              "                                               permalink  \\\n",
              "59403                                /organization/zyrra   \n",
              "59404                               /organization/zystor   \n",
              "59405                           /organization/zytoprotec   \n",
              "59406                                /organization/zzish   \n",
              "59407  /organization/zznode-science-and-technology-co...   \n",
              "59408                          /organization/zzzzapp-com   \n",
              "59409                              /organization/Ôasys-2   \n",
              "\n",
              "                                name               homepage url  \\\n",
              "59403                          Zyrra       http://www.zyrra.com   \n",
              "59404                         Zystor      http://www.zystor.com   \n",
              "59405                     Zytoprotec  http://www.zytoprotec.com   \n",
              "59406                          Zzish       http://www.zzish.com   \n",
              "59407  ZZNode Science and Technology      http://www.zznode.com   \n",
              "59408          Zzzzapp Wireless ltd.     http://www.zzzzapp.com   \n",
              "59409                          Ôasys       http://www.oasys.io/   \n",
              "\n",
              "                                           category list  funding total usd  \\\n",
              "59403                                         E-Commerce        1510500.000   \n",
              "59404                                      Biotechnology        8500000.000   \n",
              "59405                                      Biotechnology        2686600.000   \n",
              "59406  Analytics|Android|Developer APIs|Education|Gam...        1120000.000   \n",
              "59407                                Enterprise Software        1587301.000   \n",
              "59408        Advertising|Mobile|Web Development|Wireless         114304.000   \n",
              "59409  Consumer Electronics|Internet of Things|Teleco...          18192.000   \n",
              "\n",
              "          status country code state code       region                city  \\\n",
              "59403  operating          USA         MA       Boston           Cambridge   \n",
              "59404   acquired          USA         WI    Milwaukee           Milwaukee   \n",
              "59405  operating          AUT      3.000       Vienna  Gerasdorf Bei Wien   \n",
              "59406  operating          GBR         H9       London              London   \n",
              "59407  operating          CHN     22.000      Beijing             Beijing   \n",
              "59408  operating          HRV     15.000        Split               Split   \n",
              "59409  operating          USA         CA  SF Bay Area       San Francisco   \n",
              "\n",
              "       funding rounds           founded at     first funding at  \\\n",
              "59403           4.000                  NaN  2010-10-21 00:00:00   \n",
              "59404           1.000                  NaN  2004-12-16 00:00:00   \n",
              "59405           1.000  2007-01-01 00:00:00  2013-01-29 00:00:00   \n",
              "59406           3.000  2014-01-28 00:00:00  2014-03-24 00:00:00   \n",
              "59407           1.000                  NaN  2012-04-01 00:00:00   \n",
              "59408           4.000  2012-05-13 00:00:00  2011-11-01 00:00:00   \n",
              "59409           1.000  2014-01-01 00:00:00  2015-01-01 00:00:00   \n",
              "\n",
              "      last funding at  \n",
              "59403      2012-10-18  \n",
              "59404      2004-12-16  \n",
              "59405      2013-01-29  \n",
              "59406      2015-02-25  \n",
              "59407      2012-04-01  \n",
              "59408      2014-03-01  \n",
              "59409      2015-01-01  "
            ],
            "text/html": [
              "\n",
              "  <div id=\"df-0a15c7c2-7c84-4bbf-a49d-0699bcbc579b\">\n",
              "    <div class=\"colab-df-container\">\n",
              "      <div>\n",
              "<style scoped>\n",
              "    .dataframe tbody tr th:only-of-type {\n",
              "        vertical-align: middle;\n",
              "    }\n",
              "\n",
              "    .dataframe tbody tr th {\n",
              "        vertical-align: top;\n",
              "    }\n",
              "\n",
              "    .dataframe thead th {\n",
              "        text-align: right;\n",
              "    }\n",
              "</style>\n",
              "<table border=\"1\" class=\"dataframe\">\n",
              "  <thead>\n",
              "    <tr style=\"text-align: right;\">\n",
              "      <th></th>\n",
              "      <th>permalink</th>\n",
              "      <th>name</th>\n",
              "      <th>homepage url</th>\n",
              "      <th>category list</th>\n",
              "      <th>funding total usd</th>\n",
              "      <th>status</th>\n",
              "      <th>country code</th>\n",
              "      <th>state code</th>\n",
              "      <th>region</th>\n",
              "      <th>city</th>\n",
              "      <th>funding rounds</th>\n",
              "      <th>founded at</th>\n",
              "      <th>first funding at</th>\n",
              "      <th>last funding at</th>\n",
              "    </tr>\n",
              "  </thead>\n",
              "  <tbody>\n",
              "    <tr>\n",
              "      <th>59403</th>\n",
              "      <td>/organization/zyrra</td>\n",
              "      <td>Zyrra</td>\n",
              "      <td>http://www.zyrra.com</td>\n",
              "      <td>E-Commerce</td>\n",
              "      <td>1510500.000</td>\n",
              "      <td>operating</td>\n",
              "      <td>USA</td>\n",
              "      <td>MA</td>\n",
              "      <td>Boston</td>\n",
              "      <td>Cambridge</td>\n",
              "      <td>4.000</td>\n",
              "      <td>NaN</td>\n",
              "      <td>2010-10-21 00:00:00</td>\n",
              "      <td>2012-10-18</td>\n",
              "    </tr>\n",
              "    <tr>\n",
              "      <th>59404</th>\n",
              "      <td>/organization/zystor</td>\n",
              "      <td>Zystor</td>\n",
              "      <td>http://www.zystor.com</td>\n",
              "      <td>Biotechnology</td>\n",
              "      <td>8500000.000</td>\n",
              "      <td>acquired</td>\n",
              "      <td>USA</td>\n",
              "      <td>WI</td>\n",
              "      <td>Milwaukee</td>\n",
              "      <td>Milwaukee</td>\n",
              "      <td>1.000</td>\n",
              "      <td>NaN</td>\n",
              "      <td>2004-12-16 00:00:00</td>\n",
              "      <td>2004-12-16</td>\n",
              "    </tr>\n",
              "    <tr>\n",
              "      <th>59405</th>\n",
              "      <td>/organization/zytoprotec</td>\n",
              "      <td>Zytoprotec</td>\n",
              "      <td>http://www.zytoprotec.com</td>\n",
              "      <td>Biotechnology</td>\n",
              "      <td>2686600.000</td>\n",
              "      <td>operating</td>\n",
              "      <td>AUT</td>\n",
              "      <td>3.000</td>\n",
              "      <td>Vienna</td>\n",
              "      <td>Gerasdorf Bei Wien</td>\n",
              "      <td>1.000</td>\n",
              "      <td>2007-01-01 00:00:00</td>\n",
              "      <td>2013-01-29 00:00:00</td>\n",
              "      <td>2013-01-29</td>\n",
              "    </tr>\n",
              "    <tr>\n",
              "      <th>59406</th>\n",
              "      <td>/organization/zzish</td>\n",
              "      <td>Zzish</td>\n",
              "      <td>http://www.zzish.com</td>\n",
              "      <td>Analytics|Android|Developer APIs|Education|Gam...</td>\n",
              "      <td>1120000.000</td>\n",
              "      <td>operating</td>\n",
              "      <td>GBR</td>\n",
              "      <td>H9</td>\n",
              "      <td>London</td>\n",
              "      <td>London</td>\n",
              "      <td>3.000</td>\n",
              "      <td>2014-01-28 00:00:00</td>\n",
              "      <td>2014-03-24 00:00:00</td>\n",
              "      <td>2015-02-25</td>\n",
              "    </tr>\n",
              "    <tr>\n",
              "      <th>59407</th>\n",
              "      <td>/organization/zznode-science-and-technology-co...</td>\n",
              "      <td>ZZNode Science and Technology</td>\n",
              "      <td>http://www.zznode.com</td>\n",
              "      <td>Enterprise Software</td>\n",
              "      <td>1587301.000</td>\n",
              "      <td>operating</td>\n",
              "      <td>CHN</td>\n",
              "      <td>22.000</td>\n",
              "      <td>Beijing</td>\n",
              "      <td>Beijing</td>\n",
              "      <td>1.000</td>\n",
              "      <td>NaN</td>\n",
              "      <td>2012-04-01 00:00:00</td>\n",
              "      <td>2012-04-01</td>\n",
              "    </tr>\n",
              "    <tr>\n",
              "      <th>59408</th>\n",
              "      <td>/organization/zzzzapp-com</td>\n",
              "      <td>Zzzzapp Wireless ltd.</td>\n",
              "      <td>http://www.zzzzapp.com</td>\n",
              "      <td>Advertising|Mobile|Web Development|Wireless</td>\n",
              "      <td>114304.000</td>\n",
              "      <td>operating</td>\n",
              "      <td>HRV</td>\n",
              "      <td>15.000</td>\n",
              "      <td>Split</td>\n",
              "      <td>Split</td>\n",
              "      <td>4.000</td>\n",
              "      <td>2012-05-13 00:00:00</td>\n",
              "      <td>2011-11-01 00:00:00</td>\n",
              "      <td>2014-03-01</td>\n",
              "    </tr>\n",
              "    <tr>\n",
              "      <th>59409</th>\n",
              "      <td>/organization/Ôasys-2</td>\n",
              "      <td>Ôasys</td>\n",
              "      <td>http://www.oasys.io/</td>\n",
              "      <td>Consumer Electronics|Internet of Things|Teleco...</td>\n",
              "      <td>18192.000</td>\n",
              "      <td>operating</td>\n",
              "      <td>USA</td>\n",
              "      <td>CA</td>\n",
              "      <td>SF Bay Area</td>\n",
              "      <td>San Francisco</td>\n",
              "      <td>1.000</td>\n",
              "      <td>2014-01-01 00:00:00</td>\n",
              "      <td>2015-01-01 00:00:00</td>\n",
              "      <td>2015-01-01</td>\n",
              "    </tr>\n",
              "  </tbody>\n",
              "</table>\n",
              "</div>\n",
              "      <button class=\"colab-df-convert\" onclick=\"convertToInteractive('df-0a15c7c2-7c84-4bbf-a49d-0699bcbc579b')\"\n",
              "              title=\"Convert this dataframe to an interactive table.\"\n",
              "              style=\"display:none;\">\n",
              "        \n",
              "  <svg xmlns=\"http://www.w3.org/2000/svg\" height=\"24px\"viewBox=\"0 0 24 24\"\n",
              "       width=\"24px\">\n",
              "    <path d=\"M0 0h24v24H0V0z\" fill=\"none\"/>\n",
              "    <path d=\"M18.56 5.44l.94 2.06.94-2.06 2.06-.94-2.06-.94-.94-2.06-.94 2.06-2.06.94zm-11 1L8.5 8.5l.94-2.06 2.06-.94-2.06-.94L8.5 2.5l-.94 2.06-2.06.94zm10 10l.94 2.06.94-2.06 2.06-.94-2.06-.94-.94-2.06-.94 2.06-2.06.94z\"/><path d=\"M17.41 7.96l-1.37-1.37c-.4-.4-.92-.59-1.43-.59-.52 0-1.04.2-1.43.59L10.3 9.45l-7.72 7.72c-.78.78-.78 2.05 0 2.83L4 21.41c.39.39.9.59 1.41.59.51 0 1.02-.2 1.41-.59l7.78-7.78 2.81-2.81c.8-.78.8-2.07 0-2.86zM5.41 20L4 18.59l7.72-7.72 1.47 1.35L5.41 20z\"/>\n",
              "  </svg>\n",
              "      </button>\n",
              "      \n",
              "  <style>\n",
              "    .colab-df-container {\n",
              "      display:flex;\n",
              "      flex-wrap:wrap;\n",
              "      gap: 12px;\n",
              "    }\n",
              "\n",
              "    .colab-df-convert {\n",
              "      background-color: #E8F0FE;\n",
              "      border: none;\n",
              "      border-radius: 50%;\n",
              "      cursor: pointer;\n",
              "      display: none;\n",
              "      fill: #1967D2;\n",
              "      height: 32px;\n",
              "      padding: 0 0 0 0;\n",
              "      width: 32px;\n",
              "    }\n",
              "\n",
              "    .colab-df-convert:hover {\n",
              "      background-color: #E2EBFA;\n",
              "      box-shadow: 0px 1px 2px rgba(60, 64, 67, 0.3), 0px 1px 3px 1px rgba(60, 64, 67, 0.15);\n",
              "      fill: #174EA6;\n",
              "    }\n",
              "\n",
              "    [theme=dark] .colab-df-convert {\n",
              "      background-color: #3B4455;\n",
              "      fill: #D2E3FC;\n",
              "    }\n",
              "\n",
              "    [theme=dark] .colab-df-convert:hover {\n",
              "      background-color: #434B5C;\n",
              "      box-shadow: 0px 1px 3px 1px rgba(0, 0, 0, 0.15);\n",
              "      filter: drop-shadow(0px 1px 2px rgba(0, 0, 0, 0.3));\n",
              "      fill: #FFFFFF;\n",
              "    }\n",
              "  </style>\n",
              "\n",
              "      <script>\n",
              "        const buttonEl =\n",
              "          document.querySelector('#df-0a15c7c2-7c84-4bbf-a49d-0699bcbc579b button.colab-df-convert');\n",
              "        buttonEl.style.display =\n",
              "          google.colab.kernel.accessAllowed ? 'block' : 'none';\n",
              "\n",
              "        async function convertToInteractive(key) {\n",
              "          const element = document.querySelector('#df-0a15c7c2-7c84-4bbf-a49d-0699bcbc579b');\n",
              "          const dataTable =\n",
              "            await google.colab.kernel.invokeFunction('convertToInteractive',\n",
              "                                                     [key], {});\n",
              "          if (!dataTable) return;\n",
              "\n",
              "          const docLinkHtml = 'Like what you see? Visit the ' +\n",
              "            '<a target=\"_blank\" href=https://colab.research.google.com/notebooks/data_table.ipynb>data table notebook</a>'\n",
              "            + ' to learn more about interactive tables.';\n",
              "          element.innerHTML = '';\n",
              "          dataTable['output_type'] = 'display_data';\n",
              "          await google.colab.output.renderOutput(dataTable, element);\n",
              "          const docLink = document.createElement('div');\n",
              "          docLink.innerHTML = docLinkHtml;\n",
              "          element.appendChild(docLink);\n",
              "        }\n",
              "      </script>\n",
              "    </div>\n",
              "  </div>\n",
              "  "
            ]
          },
          "metadata": {},
          "execution_count": 74
        }
      ]
    },
    {
      "cell_type": "markdown",
      "source": [
        "**Understand the shape of the dataset**"
      ],
      "metadata": {
        "id": "vtIhGsaTNWAq"
      }
    },
    {
      "cell_type": "code",
      "source": [
        "# checking shape of the data\n",
        "print(\"There are\", data.shape[0], 'rows and', data.shape[1], \"columns.\")"
      ],
      "metadata": {
        "id": "YyY6D5bAN2V6",
        "colab": {
          "base_uri": "https://localhost:8080/"
        },
        "outputId": "dc4f6a0f-e037-4848-c83d-f32e02fd37a1"
      },
      "execution_count": 75,
      "outputs": [
        {
          "output_type": "stream",
          "name": "stdout",
          "text": [
            "There are 59410 rows and 14 columns.\n"
          ]
        }
      ]
    },
    {
      "cell_type": "markdown",
      "source": [
        "**Check the data types of the columns for the dataset**"
      ],
      "metadata": {
        "id": "tufJ5k03ObJV"
      }
    },
    {
      "cell_type": "code",
      "source": [
        "data.info()"
      ],
      "metadata": {
        "id": "k1UhwMgWOgM1",
        "colab": {
          "base_uri": "https://localhost:8080/"
        },
        "outputId": "f8599c63-51f6-47be-c39d-32ec55f683c8"
      },
      "execution_count": 76,
      "outputs": [
        {
          "output_type": "stream",
          "name": "stdout",
          "text": [
            "<class 'pandas.core.frame.DataFrame'>\n",
            "RangeIndex: 59410 entries, 0 to 59409\n",
            "Data columns (total 14 columns):\n",
            " #   Column             Non-Null Count  Dtype         \n",
            "---  ------             --------------  -----         \n",
            " 0   permalink          59410 non-null  object        \n",
            " 1   name               59409 non-null  object        \n",
            " 2   homepage url       55758 non-null  object        \n",
            " 3   category list      57804 non-null  object        \n",
            " 4   funding total usd  59410 non-null  float64       \n",
            " 5   status             59410 non-null  object        \n",
            " 6   country code       59410 non-null  object        \n",
            " 7   state code         57821 non-null  object        \n",
            " 8   region             58338 non-null  object        \n",
            " 9   city               58340 non-null  object        \n",
            " 10  funding rounds     59410 non-null  float64       \n",
            " 11  founded at         47442 non-null  object        \n",
            " 12  first funding at   59388 non-null  object        \n",
            " 13  last funding at    59410 non-null  datetime64[ns]\n",
            "dtypes: datetime64[ns](1), float64(2), object(11)\n",
            "memory usage: 6.3+ MB\n"
          ]
        }
      ]
    },
    {
      "cell_type": "markdown",
      "source": [
        "* There are 3 numerical columns in the data and 11 object type columns\n",
        "* Founded at and first funding at columns should listed as objects but should be date-time format"
      ],
      "metadata": {
        "id": "shkS_om_PT84"
      }
    },
    {
      "cell_type": "code",
      "source": [
        "# lets see why the founded at column has an object data type\n",
        "data['founded at'].unique()"
      ],
      "metadata": {
        "id": "nH1kmbJ2zgVI",
        "colab": {
          "base_uri": "https://localhost:8080/"
        },
        "outputId": "651a008b-72e1-4ac9-9d92-012edb854fc0"
      },
      "execution_count": 77,
      "outputs": [
        {
          "output_type": "execute_result",
          "data": {
            "text/plain": [
              "array([nan, datetime.datetime(2014, 9, 4, 0, 0),\n",
              "       datetime.datetime(2007, 1, 1, 0, 0), ...,\n",
              "       datetime.datetime(2006, 6, 24, 0, 0),\n",
              "       datetime.datetime(2005, 6, 21, 0, 0),\n",
              "       datetime.datetime(2006, 10, 27, 0, 0)], dtype=object)"
            ]
          },
          "metadata": {},
          "execution_count": 77
        }
      ]
    },
    {
      "cell_type": "code",
      "source": [
        "# checking the count of different data types in the Founded At column\n",
        "data['founded at'].apply(type).value_counts()\n"
      ],
      "metadata": {
        "id": "kXPizC9wz1d8",
        "colab": {
          "base_uri": "https://localhost:8080/"
        },
        "outputId": "bb6611a6-71c7-4784-ed79-b6a862052dbb"
      },
      "execution_count": 78,
      "outputs": [
        {
          "output_type": "execute_result",
          "data": {
            "text/plain": [
              "<class 'datetime.datetime'>    47343\n",
              "<class 'float'>                11968\n",
              "<class 'str'>                     99\n",
              "Name: founded at, dtype: int64"
            ]
          },
          "metadata": {},
          "execution_count": 78
        }
      ]
    },
    {
      "cell_type": "markdown",
      "source": [
        "\n",
        "\n",
        "*   There are mixed data type values in the column.\n"
      ],
      "metadata": {
        "id": "T4zD2P79W5LW"
      }
    },
    {
      "cell_type": "code",
      "source": [
        "# lets see why the first funding at column has an object data type\n",
        "data['first funding at'].unique()"
      ],
      "metadata": {
        "id": "kd47rBbKk11z",
        "colab": {
          "base_uri": "https://localhost:8080/"
        },
        "outputId": "25b83a96-a71d-4b58-cbb8-4e1e2cbcce4d"
      },
      "execution_count": 79,
      "outputs": [
        {
          "output_type": "execute_result",
          "data": {
            "text/plain": [
              "array([datetime.datetime(2015, 1, 5, 0, 0),\n",
              "       datetime.datetime(2014, 3, 1, 0, 0),\n",
              "       datetime.datetime(2008, 3, 19, 0, 0), ...,\n",
              "       datetime.datetime(2008, 7, 13, 0, 0),\n",
              "       datetime.datetime(2005, 4, 12, 0, 0),\n",
              "       datetime.datetime(2004, 10, 12, 0, 0)], dtype=object)"
            ]
          },
          "metadata": {},
          "execution_count": 79
        }
      ]
    },
    {
      "cell_type": "code",
      "source": [
        "# checking the count of different data types in the first funding at column\n",
        "data['first funding at'].apply(type).value_counts()"
      ],
      "metadata": {
        "id": "H6pJIDC1kYvH",
        "colab": {
          "base_uri": "https://localhost:8080/"
        },
        "outputId": "f91f5c95-23d7-48dd-cab4-0dd142ef7291"
      },
      "execution_count": 80,
      "outputs": [
        {
          "output_type": "execute_result",
          "data": {
            "text/plain": [
              "<class 'datetime.datetime'>    59385\n",
              "<class 'float'>                   22\n",
              "<class 'str'>                      3\n",
              "Name: first funding at, dtype: int64"
            ]
          },
          "metadata": {},
          "execution_count": 80
        }
      ]
    },
    {
      "cell_type": "markdown",
      "source": [
        "\n",
        "*   Again, there are mixed data type values in this column as well.\n",
        "\n"
      ],
      "metadata": {
        "id": "EDKNImch0OZq"
      }
    },
    {
      "cell_type": "markdown",
      "source": [
        "**Checking for missing values in the data**"
      ],
      "metadata": {
        "id": "E0_-UElsPabP"
      }
    },
    {
      "cell_type": "code",
      "source": [
        "data.isnull().sum()"
      ],
      "metadata": {
        "id": "E8OTYX9HPjbl",
        "colab": {
          "base_uri": "https://localhost:8080/"
        },
        "outputId": "c6881adf-c682-4b44-a88c-60d44d2cfef1"
      },
      "execution_count": 81,
      "outputs": [
        {
          "output_type": "execute_result",
          "data": {
            "text/plain": [
              "permalink                0\n",
              "name                     1\n",
              "homepage url          3652\n",
              "category list         1606\n",
              "funding total usd        0\n",
              "status                   0\n",
              "country code             0\n",
              "state code            1589\n",
              "region                1072\n",
              "city                  1070\n",
              "funding rounds           0\n",
              "founded at           11968\n",
              "first funding at        22\n",
              "last funding at          0\n",
              "dtype: int64"
            ]
          },
          "metadata": {},
          "execution_count": 81
        }
      ]
    },
    {
      "cell_type": "markdown",
      "source": [
        "* There are missing values in 6 columns of the data."
      ],
      "metadata": {
        "id": "7rmo07l2e2mz"
      }
    },
    {
      "cell_type": "markdown",
      "source": [
        "**Checking for duplicate entries in the data**"
      ],
      "metadata": {
        "id": "omUmghVVQcMV"
      }
    },
    {
      "cell_type": "code",
      "source": [
        "data.duplicated().sum()"
      ],
      "metadata": {
        "id": "cmL0qXLqQn73",
        "colab": {
          "base_uri": "https://localhost:8080/"
        },
        "outputId": "558d06ac-4d18-4de8-e195-f35c2e399380"
      },
      "execution_count": 82,
      "outputs": [
        {
          "output_type": "execute_result",
          "data": {
            "text/plain": [
              "0"
            ]
          },
          "metadata": {},
          "execution_count": 82
        }
      ]
    },
    {
      "cell_type": "markdown",
      "source": [
        "*   There are 0 duplicate entries in the data. \n"
      ],
      "metadata": {
        "id": "7V-4CelEQyWh"
      }
    },
    {
      "cell_type": "markdown",
      "source": [
        "**Let's check the statistical summary of the data.**"
      ],
      "metadata": {
        "id": "pm0rND_3RmKW"
      }
    },
    {
      "cell_type": "code",
      "source": [
        "data.describe().T"
      ],
      "metadata": {
        "id": "9NyuNWkcRizT",
        "colab": {
          "base_uri": "https://localhost:8080/",
          "height": 112
        },
        "outputId": "c86a60dc-1d41-4273-e3f3-ebdefe755569"
      },
      "execution_count": 83,
      "outputs": [
        {
          "output_type": "execute_result",
          "data": {
            "text/plain": [
              "                      count         mean           std   min       25%  \\\n",
              "funding total usd 59410.000 15704884.892 171562682.061 0.000 60000.000   \n",
              "funding rounds    59410.000        1.789         1.406 1.000     1.000   \n",
              "\n",
              "                          50%         75%             max  \n",
              "funding total usd 1100000.000 7634592.250 30079503000.000  \n",
              "funding rounds          1.000       2.000          19.000  "
            ],
            "text/html": [
              "\n",
              "  <div id=\"df-47a6937d-5145-4bc7-ad34-93e4ad09e5e8\">\n",
              "    <div class=\"colab-df-container\">\n",
              "      <div>\n",
              "<style scoped>\n",
              "    .dataframe tbody tr th:only-of-type {\n",
              "        vertical-align: middle;\n",
              "    }\n",
              "\n",
              "    .dataframe tbody tr th {\n",
              "        vertical-align: top;\n",
              "    }\n",
              "\n",
              "    .dataframe thead th {\n",
              "        text-align: right;\n",
              "    }\n",
              "</style>\n",
              "<table border=\"1\" class=\"dataframe\">\n",
              "  <thead>\n",
              "    <tr style=\"text-align: right;\">\n",
              "      <th></th>\n",
              "      <th>count</th>\n",
              "      <th>mean</th>\n",
              "      <th>std</th>\n",
              "      <th>min</th>\n",
              "      <th>25%</th>\n",
              "      <th>50%</th>\n",
              "      <th>75%</th>\n",
              "      <th>max</th>\n",
              "    </tr>\n",
              "  </thead>\n",
              "  <tbody>\n",
              "    <tr>\n",
              "      <th>funding total usd</th>\n",
              "      <td>59410.000</td>\n",
              "      <td>15704884.892</td>\n",
              "      <td>171562682.061</td>\n",
              "      <td>0.000</td>\n",
              "      <td>60000.000</td>\n",
              "      <td>1100000.000</td>\n",
              "      <td>7634592.250</td>\n",
              "      <td>30079503000.000</td>\n",
              "    </tr>\n",
              "    <tr>\n",
              "      <th>funding rounds</th>\n",
              "      <td>59410.000</td>\n",
              "      <td>1.789</td>\n",
              "      <td>1.406</td>\n",
              "      <td>1.000</td>\n",
              "      <td>1.000</td>\n",
              "      <td>1.000</td>\n",
              "      <td>2.000</td>\n",
              "      <td>19.000</td>\n",
              "    </tr>\n",
              "  </tbody>\n",
              "</table>\n",
              "</div>\n",
              "      <button class=\"colab-df-convert\" onclick=\"convertToInteractive('df-47a6937d-5145-4bc7-ad34-93e4ad09e5e8')\"\n",
              "              title=\"Convert this dataframe to an interactive table.\"\n",
              "              style=\"display:none;\">\n",
              "        \n",
              "  <svg xmlns=\"http://www.w3.org/2000/svg\" height=\"24px\"viewBox=\"0 0 24 24\"\n",
              "       width=\"24px\">\n",
              "    <path d=\"M0 0h24v24H0V0z\" fill=\"none\"/>\n",
              "    <path d=\"M18.56 5.44l.94 2.06.94-2.06 2.06-.94-2.06-.94-.94-2.06-.94 2.06-2.06.94zm-11 1L8.5 8.5l.94-2.06 2.06-.94-2.06-.94L8.5 2.5l-.94 2.06-2.06.94zm10 10l.94 2.06.94-2.06 2.06-.94-2.06-.94-.94-2.06-.94 2.06-2.06.94z\"/><path d=\"M17.41 7.96l-1.37-1.37c-.4-.4-.92-.59-1.43-.59-.52 0-1.04.2-1.43.59L10.3 9.45l-7.72 7.72c-.78.78-.78 2.05 0 2.83L4 21.41c.39.39.9.59 1.41.59.51 0 1.02-.2 1.41-.59l7.78-7.78 2.81-2.81c.8-.78.8-2.07 0-2.86zM5.41 20L4 18.59l7.72-7.72 1.47 1.35L5.41 20z\"/>\n",
              "  </svg>\n",
              "      </button>\n",
              "      \n",
              "  <style>\n",
              "    .colab-df-container {\n",
              "      display:flex;\n",
              "      flex-wrap:wrap;\n",
              "      gap: 12px;\n",
              "    }\n",
              "\n",
              "    .colab-df-convert {\n",
              "      background-color: #E8F0FE;\n",
              "      border: none;\n",
              "      border-radius: 50%;\n",
              "      cursor: pointer;\n",
              "      display: none;\n",
              "      fill: #1967D2;\n",
              "      height: 32px;\n",
              "      padding: 0 0 0 0;\n",
              "      width: 32px;\n",
              "    }\n",
              "\n",
              "    .colab-df-convert:hover {\n",
              "      background-color: #E2EBFA;\n",
              "      box-shadow: 0px 1px 2px rgba(60, 64, 67, 0.3), 0px 1px 3px 1px rgba(60, 64, 67, 0.15);\n",
              "      fill: #174EA6;\n",
              "    }\n",
              "\n",
              "    [theme=dark] .colab-df-convert {\n",
              "      background-color: #3B4455;\n",
              "      fill: #D2E3FC;\n",
              "    }\n",
              "\n",
              "    [theme=dark] .colab-df-convert:hover {\n",
              "      background-color: #434B5C;\n",
              "      box-shadow: 0px 1px 3px 1px rgba(0, 0, 0, 0.15);\n",
              "      filter: drop-shadow(0px 1px 2px rgba(0, 0, 0, 0.3));\n",
              "      fill: #FFFFFF;\n",
              "    }\n",
              "  </style>\n",
              "\n",
              "      <script>\n",
              "        const buttonEl =\n",
              "          document.querySelector('#df-47a6937d-5145-4bc7-ad34-93e4ad09e5e8 button.colab-df-convert');\n",
              "        buttonEl.style.display =\n",
              "          google.colab.kernel.accessAllowed ? 'block' : 'none';\n",
              "\n",
              "        async function convertToInteractive(key) {\n",
              "          const element = document.querySelector('#df-47a6937d-5145-4bc7-ad34-93e4ad09e5e8');\n",
              "          const dataTable =\n",
              "            await google.colab.kernel.invokeFunction('convertToInteractive',\n",
              "                                                     [key], {});\n",
              "          if (!dataTable) return;\n",
              "\n",
              "          const docLinkHtml = 'Like what you see? Visit the ' +\n",
              "            '<a target=\"_blank\" href=https://colab.research.google.com/notebooks/data_table.ipynb>data table notebook</a>'\n",
              "            + ' to learn more about interactive tables.';\n",
              "          element.innerHTML = '';\n",
              "          dataTable['output_type'] = 'display_data';\n",
              "          await google.colab.output.renderOutput(dataTable, element);\n",
              "          const docLink = document.createElement('div');\n",
              "          docLink.innerHTML = docLinkHtml;\n",
              "          element.appendChild(docLink);\n",
              "        }\n",
              "      </script>\n",
              "    </div>\n",
              "  </div>\n",
              "  "
            ]
          },
          "metadata": {},
          "execution_count": 83
        }
      ]
    },
    {
      "cell_type": "markdown",
      "source": [
        "\n",
        "\n",
        "*   Funding Totals: On average a startup recived $15.7M in funding. 75% of startups received at least $7.6M in funding. The maximum funding ammount recieved is listed as $3B.\n",
        "*   Funding Rounds: On average each startup went through 1.7 rounds of funding. 75% of all startups went through at least 2 rounds of funding. The maxmium number of funding rounds a startup went through was 19.\n",
        "\n"
      ],
      "metadata": {
        "id": "af3TLC483Pnr"
      }
    },
    {
      "cell_type": "code",
      "source": [
        "# let's check the total number of unique values in the country code column\n",
        "data['country code'].nunique()\n"
      ],
      "metadata": {
        "id": "qJW4X4jvSIZ_",
        "colab": {
          "base_uri": "https://localhost:8080/"
        },
        "outputId": "1d10394a-fb8d-49d1-da64-9911ad3e7165"
      },
      "execution_count": 84,
      "outputs": [
        {
          "output_type": "execute_result",
          "data": {
            "text/plain": [
              "136"
            ]
          },
          "metadata": {},
          "execution_count": 84
        }
      ]
    },
    {
      "cell_type": "markdown",
      "source": [
        "* There are a total of 136 country. codes in the data."
      ],
      "metadata": {
        "id": "UzhvnIQYSqbn"
      }
    },
    {
      "cell_type": "markdown",
      "source": [
        "**Let's check the count and percentage of categorical levels in each column**"
      ],
      "metadata": {
        "id": "IPU-1EgtTE6h"
      }
    },
    {
      "cell_type": "code",
      "source": [
        "# Making a list of all categorical variables\n",
        "cat_cols =  ['category list', 'status', 'country code']\n",
        "\n",
        "# Printing the count of unique categorical levels in each column\n",
        "for column in cat_cols:\n",
        "    print(data[column].value_counts())\n",
        "    print(\"-\" * 50)"
      ],
      "metadata": {
        "id": "OtJCqcD5TGPM",
        "colab": {
          "base_uri": "https://localhost:8080/"
        },
        "outputId": "5b9f2ada-12b5-43f0-ccc4-eddcd3228cc9"
      },
      "execution_count": 85,
      "outputs": [
        {
          "output_type": "stream",
          "name": "stdout",
          "text": [
            "Software                                                                                                              3811\n",
            "Biotechnology                                                                                                         3502\n",
            "E-Commerce                                                                                                            1212\n",
            "Clean Technology                                                                                                      1066\n",
            "Mobile                                                                                                                1053\n",
            "                                                                                                                      ... \n",
            "Hospitality|Travel|Vacation Rentals                                                                                      1\n",
            "Collaborative Consumption|Communities|Consumer Internet|Mobile Commerce|Search                                           1\n",
            "Collaborative Consumption|Mobile|Peer-to-Peer|Transportation                                                             1\n",
            "App Marketing|Apps|App Stores|Cloud Computing|Enterprise Software|Marketplaces|Productivity Software|SaaS|Software       1\n",
            "Consumer Electronics|Internet of Things|Telecommunications                                                               1\n",
            "Name: category list, Length: 24727, dtype: int64\n",
            "--------------------------------------------------\n",
            "operating    48067\n",
            "acquired      5249\n",
            "closed        4587\n",
            "ipo           1507\n",
            "Name: status, dtype: int64\n",
            "--------------------------------------------------\n",
            "USA    37601\n",
            "GBR     3688\n",
            "CAN     1925\n",
            "IND     1596\n",
            "CHN     1544\n",
            "       ...  \n",
            "BRB        1\n",
            "KNA        1\n",
            "DZA        1\n",
            "TGO        1\n",
            "MAF        1\n",
            "Name: country code, Length: 136, dtype: int64\n",
            "--------------------------------------------------\n"
          ]
        }
      ]
    },
    {
      "cell_type": "code",
      "source": [
        "# Printing the percentage of unique categorical levels in each column\n",
        "for column in cat_cols:\n",
        "    print(data[column].value_counts(normalize=True))\n",
        "    print(\"-\" * 50)"
      ],
      "metadata": {
        "id": "bzu0HuFmYBJn",
        "colab": {
          "base_uri": "https://localhost:8080/"
        },
        "outputId": "f56424ba-ae86-4567-d13a-ecb7cf5dae70"
      },
      "execution_count": 86,
      "outputs": [
        {
          "output_type": "stream",
          "name": "stdout",
          "text": [
            "Software                                                                                                             0.066\n",
            "Biotechnology                                                                                                        0.061\n",
            "E-Commerce                                                                                                           0.021\n",
            "Clean Technology                                                                                                     0.018\n",
            "Mobile                                                                                                               0.018\n",
            "                                                                                                                      ... \n",
            "Hospitality|Travel|Vacation Rentals                                                                                  0.000\n",
            "Collaborative Consumption|Communities|Consumer Internet|Mobile Commerce|Search                                       0.000\n",
            "Collaborative Consumption|Mobile|Peer-to-Peer|Transportation                                                         0.000\n",
            "App Marketing|Apps|App Stores|Cloud Computing|Enterprise Software|Marketplaces|Productivity Software|SaaS|Software   0.000\n",
            "Consumer Electronics|Internet of Things|Telecommunications                                                           0.000\n",
            "Name: category list, Length: 24727, dtype: float64\n",
            "--------------------------------------------------\n",
            "operating   0.809\n",
            "acquired    0.088\n",
            "closed      0.077\n",
            "ipo         0.025\n",
            "Name: status, dtype: float64\n",
            "--------------------------------------------------\n",
            "USA   0.633\n",
            "GBR   0.062\n",
            "CAN   0.032\n",
            "IND   0.027\n",
            "CHN   0.026\n",
            "       ... \n",
            "BRB   0.000\n",
            "KNA   0.000\n",
            "DZA   0.000\n",
            "TGO   0.000\n",
            "MAF   0.000\n",
            "Name: country code, Length: 136, dtype: float64\n",
            "--------------------------------------------------\n"
          ]
        }
      ]
    },
    {
      "cell_type": "markdown",
      "source": [
        "**Observations**\n",
        "\n",
        "*   Top 5 Startup business categories are:\n",
        "  * Software\n",
        "  * Biotechnology\n",
        "  * E-Commerce \n",
        "  * Clean Technology\n",
        "  * Mobile\n",
        "*   Most of the startups (37601 or 63%) are located in the United States.\n",
        "*  The majority of startups (48067 or 80%) were listed as operating at the time of data collection.\n",
        "*  63% of startups are located in the United States followed by 6% in Great Britian. Canada, Indonesia, and China are also in the top 5 of startup locations.\n",
        "\n",
        "\n"
      ],
      "metadata": {
        "id": "WBig-LKYSJRn"
      }
    },
    {
      "cell_type": "markdown",
      "source": [
        "**Filtering Data**"
      ],
      "metadata": {
        "id": "klqYfJL3Xczr"
      }
    },
    {
      "cell_type": "code",
      "source": [
        "# creating a list containing top 5 startup categories\n",
        "catergorylist = ['Software','Biotechnology','E-Commerce', 'Clean Technology', 'Mobile']\n",
        "data_filtered = data[data['category list'].isin(catergorylist)]\n"
      ],
      "metadata": {
        "id": "CF1GiZ4tXxCh"
      },
      "execution_count": 87,
      "outputs": []
    },
    {
      "cell_type": "markdown",
      "source": [
        "###Univariate Analysis"
      ],
      "metadata": {
        "id": "WO5vBB8C5rj3"
      }
    },
    {
      "cell_type": "markdown",
      "source": [
        "**Let's check the distribution for numerical columns**"
      ],
      "metadata": {
        "id": "F_SNtmm15xd5"
      }
    },
    {
      "cell_type": "markdown",
      "source": [
        "**Oberservation of Funding Rounds USD**"
      ],
      "metadata": {
        "id": "sueN8_606SC1"
      }
    },
    {
      "cell_type": "code",
      "source": [
        "sns.histplot(data=data_filtered,x='funding rounds')\n",
        "plt.show()"
      ],
      "metadata": {
        "colab": {
          "base_uri": "https://localhost:8080/",
          "height": 279
        },
        "id": "KYr-eSH4kqOx",
        "outputId": "d1901968-1ef6-4df3-ed56-dab6e38a6cc5"
      },
      "execution_count": null,
      "outputs": [
        {
          "output_type": "display_data",
          "data": {
            "text/plain": [
              "<Figure size 432x288 with 1 Axes>"
            ],
            "image/png": "[encoded data removed]"
          },
          "metadata": {
            "needs_background": "light"
          }
        }
      ]
    },
    {
      "cell_type": "markdown",
      "source": [
        "\n",
        "\n",
        "*   The distribution of funding rounds is skewed to the right\n"
      ],
      "metadata": {
        "id": "2ieL9qeRf34E"
      }
    },
    {
      "cell_type": "code",
      "source": [
        "sns.boxplot(data=data_filtered,x='funding rounds')"
      ],
      "metadata": {
        "colab": {
          "base_uri": "https://localhost:8080/",
          "height": 297
        },
        "id": "WD_GLEh2-mFp",
        "outputId": "34a64787-841b-4e0a-807e-9c91ad114e2a"
      },
      "execution_count": null,
      "outputs": [
        {
          "output_type": "execute_result",
          "data": {
            "text/plain": [
              "<matplotlib.axes._subplots.AxesSubplot at 0x7f1b113d0880>"
            ]
          },
          "metadata": {},
          "execution_count": 26
        },
        {
          "output_type": "display_data",
          "data": {
            "text/plain": [
              "<Figure size 432x288 with 1 Axes>"
            ],
            "image/png": "[encoded data removed]"
          },
          "metadata": {
            "needs_background": "light"
          }
        }
      ]
    },
    {
      "cell_type": "markdown",
      "source": [
        "\n",
        "\n",
        "*   The distribution of Funding Rounds is skewed towards the right.\n",
        "*   There were many outliers above 2.5, which is represented as outliers by the boxplot. \n",
        "*   The values could be fine as these are startups in the early days of business thought typically, startups undergo 4 rounds of funding: seed, series A, series B, and series C before reaching IPO. \n",
        "\n"
      ],
      "metadata": {
        "id": "sUv7nlbSCAie"
      }
    },
    {
      "cell_type": "markdown",
      "source": [
        "**Observation of Funding Total USD**"
      ],
      "metadata": {
        "id": "wjbYsPthfvRw"
      }
    },
    {
      "cell_type": "code",
      "source": [
        "sns.boxplot(data=data_filtered,x='funding total usd')"
      ],
      "metadata": {
        "colab": {
          "base_uri": "https://localhost:8080/",
          "height": 297
        },
        "id": "1g5DQqgCI99O",
        "outputId": "dbc7c17e-4bab-4fc4-8d09-990f022ec813"
      },
      "execution_count": null,
      "outputs": [
        {
          "output_type": "execute_result",
          "data": {
            "text/plain": [
              "<matplotlib.axes._subplots.AxesSubplot at 0x7fc204310910>"
            ]
          },
          "metadata": {},
          "execution_count": 28
        },
        {
          "output_type": "display_data",
          "data": {
            "text/plain": [
              "<Figure size 432x288 with 1 Axes>"
            ],
            "image/png": "[encoded data removed]"
          },
          "metadata": {
            "needs_background": "light"
          }
        }
      ]
    },
    {
      "cell_type": "markdown",
      "source": [
        "\n",
        "\n",
        "*   The distribution of funding total usd is skewed right\n",
        "*   There are many outliers represented on this boxplot. \n",
        "*   The values are fine as different funding totals will different from startup to startup, industry to industry.\n",
        "\n"
      ],
      "metadata": {
        "id": "Z3sTgXENfZUv"
      }
    },
    {
      "cell_type": "markdown",
      "source": [
        "**Let's check the distribution for non-numerical columns**"
      ],
      "metadata": {
        "id": "KWgdza1Ad9PV"
      }
    },
    {
      "cell_type": "markdown",
      "source": [
        "**Observations on Startup Status**"
      ],
      "metadata": {
        "id": "224dc-WEEeJ3"
      }
    },
    {
      "cell_type": "code",
      "source": [
        "sns.countplot(data=data_filtered,x='status')\n",
        "plt.xticks(rotation=90)\n",
        "plt.show()"
      ],
      "metadata": {
        "colab": {
          "base_uri": "https://localhost:8080/",
          "height": 317
        },
        "id": "87X3_2L5EwOl",
        "outputId": "810e093e-9840-4460-a360-2ec8806c7b4e"
      },
      "execution_count": null,
      "outputs": [
        {
          "output_type": "display_data",
          "data": {
            "text/plain": [
              "<Figure size 432x288 with 1 Axes>"
            ],
            "image/png": "[encoded data removed]"
          },
          "metadata": {
            "needs_background": "light"
          }
        }
      ]
    },
    {
      "cell_type": "markdown",
      "source": [
        "\n",
        "\n",
        "*   Most of the start ups in this dataset were in operation at the time of data collection\n",
        "*   Very few startups had already reached Initial Public Offering (IPO) stage at the time of data collection\n"
      ],
      "metadata": {
        "id": "HGRD-ovKFJWG"
      }
    },
    {
      "cell_type": "code",
      "source": [
        "sns.countplot(data=data_filtered,x='category list')\n",
        "plt.xticks(rotation=90)\n",
        "plt.show()"
      ],
      "metadata": {
        "colab": {
          "base_uri": "https://localhost:8080/",
          "height": 361
        },
        "id": "B5A25UKWcnbP",
        "outputId": "d5eda835-0885-4e2a-d6f2-ad3a2b1382a4"
      },
      "execution_count": null,
      "outputs": [
        {
          "output_type": "display_data",
          "data": {
            "text/plain": [
              "<Figure size 432x288 with 1 Axes>"
            ],
            "image/png": "[encoded data removed]"
          },
          "metadata": {
            "needs_background": "light"
          }
        }
      ]
    },
    {
      "cell_type": "markdown",
      "source": [
        "\n",
        "\n",
        "*   The majority of startups fall in the software and biotechnology categories. "
      ],
      "metadata": {
        "id": "LvFL03SQc0p7"
      }
    },
    {
      "cell_type": "markdown",
      "source": [
        "### Bivariate Analysis "
      ],
      "metadata": {
        "id": "azSqsH06GIN7"
      }
    },
    {
      "cell_type": "code",
      "source": [
        "plt.figure(figsize=(10,5))\n",
        "sns.heatmap(data_filtered.corr(),annot=True,cmap='Spectral',vmin=-1,vmax=1)\n",
        "plt.show()"
      ],
      "metadata": {
        "colab": {
          "base_uri": "https://localhost:8080/",
          "height": 324
        },
        "id": "eVMO27HwGUBM",
        "outputId": "95e4dd18-e5a6-4d88-e1d4-c8c42a71afeb"
      },
      "execution_count": null,
      "outputs": [
        {
          "output_type": "display_data",
          "data": {
            "text/plain": [
              "<Figure size 720x360 with 2 Axes>"
            ],
            "image/png": "[encoded data removed]"
          },
          "metadata": {
            "needs_background": "light"
          }
        }
      ]
    },
    {
      "cell_type": "markdown",
      "source": [
        "**Observations**\n",
        "\n",
        "*   Slightly positive corrletion between funding total and funding rounds"
      ],
      "metadata": {
        "id": "fZCeb7aTG9xo"
      }
    },
    {
      "cell_type": "code",
      "source": [
        "plt.figure(figsize=(10,5))\n",
        "sns.scatterplot(data=data_filtered,x='funding total usd',y='funding rounds')\n",
        "plt.show()"
      ],
      "metadata": {
        "colab": {
          "base_uri": "https://localhost:8080/",
          "height": 334
        },
        "id": "IWZq3mlkHQpO",
        "outputId": "dfd99dfc-122a-4a7c-e2bf-312142c2d95e"
      },
      "execution_count": null,
      "outputs": [
        {
          "output_type": "display_data",
          "data": {
            "text/plain": [
              "<Figure size 720x360 with 1 Axes>"
            ],
            "image/png": "[encoded data removed]"
          },
          "metadata": {
            "needs_background": "light"
          }
        }
      ]
    },
    {
      "cell_type": "code",
      "source": [
        "sns.lmplot(data=data_filtered,x='funding rounds',y='funding total usd',height=5,aspect=2)\n",
        "plt.xlim(0,20)\n",
        "plt.show()"
      ],
      "metadata": {
        "colab": {
          "base_uri": "https://localhost:8080/",
          "height": 369
        },
        "id": "JBb7QYe4Fb4S",
        "outputId": "8f7a26b7-6260-4bf0-8384-843797248c20"
      },
      "execution_count": null,
      "outputs": [
        {
          "output_type": "display_data",
          "data": {
            "text/plain": [
              "<Figure size 720x360 with 1 Axes>"
            ],
            "image/png": "[encoded data removed]"
          },
          "metadata": {
            "needs_background": "light"
          }
        }
      ]
    },
    {
      "cell_type": "markdown",
      "source": [
        "\n",
        "*   Correlation appears slightly positive between total funding usd and funding rounds\n",
        "*   Does not to apprat to be a signigicant correlation between the number of rounds and funding total "
      ],
      "metadata": {
        "id": "LGLWnMipF7vO"
      }
    },
    {
      "cell_type": "code",
      "source": [
        "# Checking the correlation between funding total usd and funding rounds\n",
        "data_filtered[['funding total usd', 'funding rounds']].corr()"
      ],
      "metadata": {
        "colab": {
          "base_uri": "https://localhost:8080/",
          "height": 112
        },
        "id": "pBbIWi1jGQrd",
        "outputId": "a5a22efe-19d1-4e81-84f5-539c03c6aaed"
      },
      "execution_count": null,
      "outputs": [
        {
          "output_type": "execute_result",
          "data": {
            "text/plain": [
              "                   funding total usd  funding rounds\n",
              "funding total usd              1.000           0.257\n",
              "funding rounds                 0.257           1.000"
            ],
            "text/html": [
              "\n",
              "  <div id=\"df-720394ee-24f6-4cb2-922a-866493ef75fc\">\n",
              "    <div class=\"colab-df-container\">\n",
              "      <div>\n",
              "<style scoped>\n",
              "    .dataframe tbody tr th:only-of-type {\n",
              "        vertical-align: middle;\n",
              "    }\n",
              "\n",
              "    .dataframe tbody tr th {\n",
              "        vertical-align: top;\n",
              "    }\n",
              "\n",
              "    .dataframe thead th {\n",
              "        text-align: right;\n",
              "    }\n",
              "</style>\n",
              "<table border=\"1\" class=\"dataframe\">\n",
              "  <thead>\n",
              "    <tr style=\"text-align: right;\">\n",
              "      <th></th>\n",
              "      <th>funding total usd</th>\n",
              "      <th>funding rounds</th>\n",
              "    </tr>\n",
              "  </thead>\n",
              "  <tbody>\n",
              "    <tr>\n",
              "      <th>funding total usd</th>\n",
              "      <td>1.000</td>\n",
              "      <td>0.257</td>\n",
              "    </tr>\n",
              "    <tr>\n",
              "      <th>funding rounds</th>\n",
              "      <td>0.257</td>\n",
              "      <td>1.000</td>\n",
              "    </tr>\n",
              "  </tbody>\n",
              "</table>\n",
              "</div>\n",
              "      <button class=\"colab-df-convert\" onclick=\"convertToInteractive('df-720394ee-24f6-4cb2-922a-866493ef75fc')\"\n",
              "              title=\"Convert this dataframe to an interactive table.\"\n",
              "              style=\"display:none;\">\n",
              "        \n",
              "  <svg xmlns=\"http://www.w3.org/2000/svg\" height=\"24px\"viewBox=\"0 0 24 24\"\n",
              "       width=\"24px\">\n",
              "    <path d=\"M0 0h24v24H0V0z\" fill=\"none\"/>\n",
              "    <path d=\"M18.56 5.44l.94 2.06.94-2.06 2.06-.94-2.06-.94-.94-2.06-.94 2.06-2.06.94zm-11 1L8.5 8.5l.94-2.06 2.06-.94-2.06-.94L8.5 2.5l-.94 2.06-2.06.94zm10 10l.94 2.06.94-2.06 2.06-.94-2.06-.94-.94-2.06-.94 2.06-2.06.94z\"/><path d=\"M17.41 7.96l-1.37-1.37c-.4-.4-.92-.59-1.43-.59-.52 0-1.04.2-1.43.59L10.3 9.45l-7.72 7.72c-.78.78-.78 2.05 0 2.83L4 21.41c.39.39.9.59 1.41.59.51 0 1.02-.2 1.41-.59l7.78-7.78 2.81-2.81c.8-.78.8-2.07 0-2.86zM5.41 20L4 18.59l7.72-7.72 1.47 1.35L5.41 20z\"/>\n",
              "  </svg>\n",
              "      </button>\n",
              "      \n",
              "  <style>\n",
              "    .colab-df-container {\n",
              "      display:flex;\n",
              "      flex-wrap:wrap;\n",
              "      gap: 12px;\n",
              "    }\n",
              "\n",
              "    .colab-df-convert {\n",
              "      background-color: #E8F0FE;\n",
              "      border: none;\n",
              "      border-radius: 50%;\n",
              "      cursor: pointer;\n",
              "      display: none;\n",
              "      fill: #1967D2;\n",
              "      height: 32px;\n",
              "      padding: 0 0 0 0;\n",
              "      width: 32px;\n",
              "    }\n",
              "\n",
              "    .colab-df-convert:hover {\n",
              "      background-color: #E2EBFA;\n",
              "      box-shadow: 0px 1px 2px rgba(60, 64, 67, 0.3), 0px 1px 3px 1px rgba(60, 64, 67, 0.15);\n",
              "      fill: #174EA6;\n",
              "    }\n",
              "\n",
              "    [theme=dark] .colab-df-convert {\n",
              "      background-color: #3B4455;\n",
              "      fill: #D2E3FC;\n",
              "    }\n",
              "\n",
              "    [theme=dark] .colab-df-convert:hover {\n",
              "      background-color: #434B5C;\n",
              "      box-shadow: 0px 1px 3px 1px rgba(0, 0, 0, 0.15);\n",
              "      filter: drop-shadow(0px 1px 2px rgba(0, 0, 0, 0.3));\n",
              "      fill: #FFFFFF;\n",
              "    }\n",
              "  </style>\n",
              "\n",
              "      <script>\n",
              "        const buttonEl =\n",
              "          document.querySelector('#df-720394ee-24f6-4cb2-922a-866493ef75fc button.colab-df-convert');\n",
              "        buttonEl.style.display =\n",
              "          google.colab.kernel.accessAllowed ? 'block' : 'none';\n",
              "\n",
              "        async function convertToInteractive(key) {\n",
              "          const element = document.querySelector('#df-720394ee-24f6-4cb2-922a-866493ef75fc');\n",
              "          const dataTable =\n",
              "            await google.colab.kernel.invokeFunction('convertToInteractive',\n",
              "                                                     [key], {});\n",
              "          if (!dataTable) return;\n",
              "\n",
              "          const docLinkHtml = 'Like what you see? Visit the ' +\n",
              "            '<a target=\"_blank\" href=https://colab.research.google.com/notebooks/data_table.ipynb>data table notebook</a>'\n",
              "            + ' to learn more about interactive tables.';\n",
              "          element.innerHTML = '';\n",
              "          dataTable['output_type'] = 'display_data';\n",
              "          await google.colab.output.renderOutput(dataTable, element);\n",
              "          const docLink = document.createElement('div');\n",
              "          docLink.innerHTML = docLinkHtml;\n",
              "          element.appendChild(docLink);\n",
              "        }\n",
              "      </script>\n",
              "    </div>\n",
              "  </div>\n",
              "  "
            ]
          },
          "metadata": {},
          "execution_count": 38
        }
      ]
    },
    {
      "cell_type": "markdown",
      "source": [
        "* This is a positive correlation beteen funding total usd and funding rounds but it is not very high."
      ],
      "metadata": {
        "id": "R-eTj7TwG9KJ"
      }
    },
    {
      "cell_type": "code",
      "source": [
        "plt.figure(figsize=(15,7))\n",
        "sns.lineplot(data=data_filtered, x='funding rounds', y ='funding total usd',ci=None)\n",
        "plt.show()"
      ],
      "metadata": {
        "colab": {
          "base_uri": "https://localhost:8080/",
          "height": 453
        },
        "id": "Ze8lQR2lHlUZ",
        "outputId": "3b2de3e1-4250-4580-f635-f055bb84566f"
      },
      "execution_count": null,
      "outputs": [
        {
          "output_type": "display_data",
          "data": {
            "text/plain": [
              "<Figure size 1080x504 with 1 Axes>"
            ],
            "image/png": "[encoded data removed]"
          },
          "metadata": {
            "needs_background": "light"
          }
        }
      ]
    },
    {
      "cell_type": "markdown",
      "source": [
        "  \n",
        "*   We observe that that startups that went through more funding rounds could have higher funding totals"
      ],
      "metadata": {
        "id": "zl4cWocDjqlW"
      }
    },
    {
      "cell_type": "code",
      "source": [
        "#Dispersion of funding total in top 5 category lists\n",
        "sns.catplot(x='funding total usd',\n",
        "            col='category list', \n",
        "            data=data_filtered, \n",
        "            col_wrap=3,\n",
        "            kind='violin')\n",
        "plt.show()"
      ],
      "metadata": {
        "id": "MP8ypLrPLTzN",
        "colab": {
          "base_uri": "https://localhost:8080/",
          "height": 692
        },
        "outputId": "41b92d61-6b79-4e28-c0f6-98e46b54c57a"
      },
      "execution_count": null,
      "outputs": [
        {
          "output_type": "display_data",
          "data": {
            "text/plain": [
              "<Figure size 1080x720 with 5 Axes>"
            ],
            "image/png": "[encoded data removed]"
          },
          "metadata": {
            "needs_background": "light"
          }
        }
      ]
    },
    {
      "cell_type": "markdown",
      "source": [
        "\n",
        "*   E-commerce and Clean technology have the highest funding total usd"
      ],
      "metadata": {
        "id": "7qojpfRGkzO5"
      }
    },
    {
      "cell_type": "markdown",
      "source": [
        "###Considerations\n"
      ],
      "metadata": {
        "id": "ANhh7Y2phJCd"
      }
    },
    {
      "cell_type": "markdown",
      "source": [
        "\n",
        "\n",
        "**Dataset**\n",
        "*   May need better qaulity data (mixed data types that were difficult to convert)\n",
        "*   May want to segment data further to focus specific catergory of startups\n",
        "*   May want to consieder using a different filter (i.e by Country Code,etc.)\n",
        "\n",
        "\n",
        "**Build Logistic Regression Model**\n",
        "\n",
        "*   Classification algorithm used is commonly used to find the probability of event success and event failure\n",
        "*   Supports categorizing data into discrete classes by studying the relationship from a given set of labelled data\n",
        "*    Easy to setup and train\n",
        "*    Good accuracy for many simple data sets and it performs well when the dataset is linearly seperable.\n",
        "\n"
      ],
      "metadata": {
        "id": "fpkdNMjqhNUD"
      }
    },
    {
      "cell_type": "code",
      "source": [
        "from google.colab import drive\n",
        "drive.mount('/content/drive')"
      ],
      "metadata": {
        "id": "4xl521smBRra"
      },
      "execution_count": null,
      "outputs": []
    }
  ]
}